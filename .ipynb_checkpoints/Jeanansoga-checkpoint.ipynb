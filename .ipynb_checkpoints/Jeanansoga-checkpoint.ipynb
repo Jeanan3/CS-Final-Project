{
 "cells": [
  {
   "cell_type": "markdown",
   "metadata": {},
   "source": [
    "**Introduction:**"
   ]
  },
  {
   "cell_type": "markdown",
   "metadata": {},
   "source": [
    "When going about how to determine the best neighborhood in Pittsburgh, taking into account subjectively what makes a good neighborhood and what have been some of my own favorite neighborhoods. As a group we decided to focus on a theme of creativity and how creativity in a neighborhood can make it stand apart from others. \n",
    "\n",
    "I choose to look into the public art in each neighborhood determining the greater amount of public art in a neighborhood would determine a neighborhood's “greatness.” I decided to measure by the metrics of the amount of public art because one of my favorite cities in Marseille, France is known for their public street art.\n"
   ]
  },
  {
   "cell_type": "markdown",
   "metadata": {},
   "source": [
    "**The Metric**"
   ]
  },
  {
   "cell_type": "markdown",
   "metadata": {},
   "source": [
    "efhwkfhjkfsa"
   ]
  },
  {
   "cell_type": "code",
   "execution_count": 2,
   "metadata": {},
   "outputs": [],
   "source": [
    "import pandas as pd\n",
    "import geopandas\n",
    "%matplotlib inline\n",
    "import matplotlib.pyplot as plt\n",
    "\n",
    "\n",
    "pitt_public_art = geopandas.read_csv(\"Pittsburgh_Public_Art.csv\")\n"
   ]
  },
  {
   "cell_type": "markdown",
   "metadata": {},
   "source": [
    "**The Results**\n",
    "\n",
    "The Best Neighborhood:\n"
   ]
  },
  {
   "cell_type": "markdown",
   "metadata": {},
   "source": [
    "**Conclusion**"
   ]
  }
 ],
 "metadata": {
  "kernelspec": {
   "display_name": "Python 3",
   "language": "python",
   "name": "python3"
  },
  "language_info": {
   "codemirror_mode": {
    "name": "ipython",
    "version": 3
   },
   "file_extension": ".py",
   "mimetype": "text/x-python",
   "name": "python",
   "nbconvert_exporter": "python",
   "pygments_lexer": "ipython3",
   "version": "3.8.3"
  }
 },
 "nbformat": 4,
 "nbformat_minor": 4
}
